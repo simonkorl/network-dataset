{
 "cells": [
  {
   "cell_type": "code",
   "execution_count": 1,
   "metadata": {},
   "outputs": [],
   "source": [
    "import os\n",
    "import fitz\n",
    "from paddleocr import PaddleOCR\n",
    "import torch"
   ]
  },
  {
   "cell_type": "code",
   "execution_count": 2,
   "metadata": {},
   "outputs": [],
   "source": [
    "filename = os.path.join(\"pdf\", \"联通手机营业厅使用手册.pdf\")\n",
    "doc = fitz.open(filename)"
   ]
  },
  {
   "cell_type": "code",
   "execution_count": 4,
   "metadata": {},
   "outputs": [
    {
     "name": "stdout",
     "output_type": "stream",
     "text": [
      "page[0]: image num=0\n",
      "page[1]: image num=0\n",
      "page[2]: image num=1\n",
      "page[3]: image num=2\n",
      "page[4]: image num=2\n",
      "page[5]: image num=2\n",
      "page[6]: image num=2\n",
      "page[7]: image num=2\n",
      "page[8]: image num=2\n",
      "page[9]: image num=2\n",
      "page[10]: image num=2\n",
      "page[11]: image num=2\n",
      "page[12]: image num=3\n",
      "page[13]: image num=0\n"
     ]
    }
   ],
   "source": [
    "page_count = doc.page_count\n",
    "img_count = 0\n",
    "img_dir = \"img\"\n",
    "os.makedirs(img_dir, exist_ok=True)\n",
    "for page_idx in range(page_count):\n",
    "    # page = doc.load_page(page_idx)\n",
    "    # text = page.get_text()\n",
    "    # print(text)\n",
    "    img_list = doc.get_page_images(page_idx)\n",
    "    print(f\"page[{page_idx}]: image num={len(img_list)}\")\n",
    "    for img in img_list:\n",
    "        pix = fitz.Pixmap(doc, img[0])\n",
    "        if pix.n - pix.alpha >= 4:\n",
    "            pix = fitz.Pixmap(fitz.csRGB, pix)\n",
    "        pix.save(os.path.join(img_dir, f\"{img_count}.png\"))\n",
    "        img_count += 1"
   ]
  },
  {
   "cell_type": "code",
   "execution_count": null,
   "metadata": {},
   "outputs": [],
   "source": [
    "def pdf_ocr_txt(filepath, dir_path=\"tmp_files\"):\n",
    "    full_dir_path = os.path.join(os.path.dirname(filepath), dir_path)\n",
    "    if not os.path.exists(full_dir_path):\n",
    "        os.makedirs(full_dir_path)\n",
    "    ocr = PaddleOCR(use_angle_cls=True, lang=\"ch\", use_gpu=torch.cuda.is_available(), show_log=False)\n",
    "    doc = fitz.open(filepath)\n",
    "    txt_file_path = os.path.join(full_dir_path, f\"{os.path.split(filepath)[-1]}.txt\")\n",
    "    img_name = os.path.join(full_dir_path, 'tmp.png')\n",
    "    with open(txt_file_path, 'w', encoding='utf-8') as fout:\n",
    "        for i in range(doc.page_count):\n",
    "            page = doc[i]\n",
    "            text = page.get_text(\"\")\n",
    "            fout.write(text)\n",
    "            fout.write(\"\\n\")\n",
    "\n",
    "            img_list = page.get_images()\n",
    "            for img in img_list:\n",
    "                pix = fitz.Pixmap(doc, img[0])\n",
    "                if pix.n - pix.alpha >= 4:\n",
    "                    pix = fitz.Pixmap(fitz.csRGB, pix)\n",
    "                pix.save(img_name)\n",
    "\n",
    "                result = ocr.ocr(img_name)\n",
    "                ocr_result = [i[1][0] for line in result for i in line]\n",
    "                fout.write(\"\\n\".join(ocr_result))\n",
    "    if os.path.exists(img_name):\n",
    "        os.remove(img_name)\n",
    "    return txt_file_path"
   ]
  }
 ],
 "metadata": {
  "kernelspec": {
   "display_name": "LLM",
   "language": "python",
   "name": "python3"
  },
  "language_info": {
   "codemirror_mode": {
    "name": "ipython",
    "version": 3
   },
   "file_extension": ".py",
   "mimetype": "text/x-python",
   "name": "python",
   "nbconvert_exporter": "python",
   "pygments_lexer": "ipython3",
   "version": "3.9.0"
  },
  "orig_nbformat": 4
 },
 "nbformat": 4,
 "nbformat_minor": 2
}
