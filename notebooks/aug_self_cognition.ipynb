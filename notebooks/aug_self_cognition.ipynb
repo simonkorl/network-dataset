{
 "cells": [
  {
   "cell_type": "code",
   "execution_count": 1,
   "metadata": {},
   "outputs": [],
   "source": [
    "import os\n",
    "import openai\n",
    "\n",
    "proxy = 'http://dell-1.star:7890' # 3090 docker\n",
    "# proxy = 'http://127.0.0.1:7890' # clash\n",
    "# proxy = 'http://127.0.0.1:1080' # naiveproxy\n",
    "\n",
    "os.environ['http_proxy'] = proxy \n",
    "os.environ['HTTP_PROXY'] = proxy\n",
    "os.environ['https_proxy'] = proxy\n",
    "os.environ['HTTPS_PROXY'] = proxy\n",
    "openai.api_key_path = \".openai-key2\""
   ]
  },
  {
   "cell_type": "code",
   "execution_count": 9,
   "metadata": {},
   "outputs": [],
   "source": [
    "import json\n",
    "with open(\"template/question_augmentation.json\", \"r\") as f:\n",
    "    template = json.load(f)\n",
    "\n",
    "\n",
    "AUGMENT_PROMPT = \"\"\"根据以下示例问题和答案，改写给定问题，不需要改写答案，要求改写后的问题与原问题的意思相同，且改写后的问题与给定答案匹配，但形式与原问题不同。\n",
    "问题：\n",
    "{question_example}\n",
    "答案：\n",
    "{answer_example}\n",
    "改写后的问题：\n",
    "{output_example}\n",
    "\n",
    "问题：\n",
    "{question}\n",
    "答案：\n",
    "{answer}\n",
    "改写后的问题：\n",
    "1.\n",
    "\"\"\"\n"
   ]
  },
  {
   "cell_type": "code",
   "execution_count": 3,
   "metadata": {},
   "outputs": [],
   "source": [
    "import logging\n",
    "import random\n",
    "\n",
    "def aug_questions_by_chat(row, max_tokens=1000):\n",
    "    example = random.choice(template)\n",
    "    try:\n",
    "        response = openai.ChatCompletion.create(\n",
    "            model=\"gpt-3.5-turbo\",\n",
    "            messages=[\n",
    "                {\n",
    "                    \"role\": \"user\",\n",
    "                    \"content\": AUGMENT_PROMPT.format(\n",
    "                        question_example=example['question'],\n",
    "                        answer_example=example['answer'],\n",
    "                        output_example=example['output'],\n",
    "                        question=row['question'],\n",
    "                        answer=row['answer'])\n",
    "                }\n",
    "            ],\n",
    "            temperature=0,\n",
    "            max_tokens=max_tokens,\n",
    "            top_p=1,\n",
    "            frequency_penalty=0,\n",
    "            presence_penalty=0,\n",
    "            stop=[\"\\n\\n\"]\n",
    "        )\n",
    "        return response.choices[0].message.content\n",
    "    except Exception as e:\n",
    "        logging.error(e)\n",
    "        return \"\"\n"
   ]
  },
  {
   "cell_type": "code",
   "execution_count": 10,
   "metadata": {},
   "outputs": [
    {
     "name": "stderr",
     "output_type": "stream",
     "text": [
      " 41%|████      | 13/32 [00:23<00:33,  1.75s/it]ERROR:root:The server is overloaded or not ready yet.\n",
      "100%|██████████| 32/32 [01:22<00:00,  2.59s/it]\n"
     ]
    }
   ],
   "source": [
    "import pandas\n",
    "from tqdm import tqdm\n",
    "import json\n",
    "\n",
    "tqdm.pandas()\n",
    "\n",
    "filename = \"template/self_cognition_seed.json\"\n",
    "with open(filename, \"r\") as f:\n",
    "    data = json.load(f)\n",
    "df = pandas.DataFrame(data)\n",
    "\n",
    "df[\"aug_questions\"] = df.progress_apply(aug_questions_by_chat, axis=1)"
   ]
  },
  {
   "cell_type": "code",
   "execution_count": 11,
   "metadata": {},
   "outputs": [],
   "source": [
    "df[\"aug_questions\"] = \"1.\" + df.aug_questions\n",
    "df.to_csv(\"data/self_cognition_aug.csv\", index=False)"
   ]
  },
  {
   "cell_type": "code",
   "execution_count": 12,
   "metadata": {},
   "outputs": [],
   "source": [
    "# split aug_questions\n",
    "import pandas as pd\n",
    "import re \n",
    "\n",
    "aug_df = pd.read_csv(\"data/self_cognition_aug.csv\")\n",
    "question_list, answer_list = [], []\n",
    "for idx, row in aug_df.iterrows():\n",
    "    aug_questions = row.aug_questions\n",
    "    aug_questions = re.split(r\"\\d+\\.\", aug_questions)\n",
    "    aug_questions = [q.strip() for q in aug_questions if q.strip()]\n",
    "    question_list.extend(aug_questions)\n",
    "    answer_list.extend([row.answer] * len(aug_questions))\n",
    "\n",
    "new_df = pd.DataFrame({\n",
    "    \"question\": question_list,\n",
    "    \"answer\": answer_list\n",
    "})\n",
    "\n",
    "# new_df.to_csv(\"data/self_cognition.csv\", index=False)\n",
    "# new_df.to_json(\"data/self_cognition.jsonl\", \n",
    "#                orient=\"records\", force_ascii=False, lines=True)"
   ]
  },
  {
   "cell_type": "code",
   "execution_count": 15,
   "metadata": {},
   "outputs": [],
   "source": [
    "import json\n",
    "\n",
    "with open(\"template/self_cognition_seed.json\", \"r\") as f:\n",
    "    data = json.load(f)\n",
    "raw_df = pandas.DataFrame(data)\n",
    "# raw_df.to_json(\"output/self_cognition_seed.jsonl\", force_ascii=False, lines=True,\n",
    "#                orient=\"records\")\n",
    "\n",
    "new_df = pd.concat([raw_df, new_df], axis=0)\n",
    "new_df.to_json(\"data/self_cognition.jsonl\", force_ascii=False, lines=True,\n",
    "                orient=\"records\")"
   ]
  },
  {
   "cell_type": "markdown",
   "metadata": {},
   "source": [
    "# After manual filtering, substitute key words"
   ]
  },
  {
   "cell_type": "code",
   "execution_count": 5,
   "metadata": {},
   "outputs": [],
   "source": [
    "sub_rules = {\n",
    "    \"[OTHER_LLM_NAME]\": [\"ChatGPT\", \"Claude\", \"New Bing\", \"GPT4\", \n",
    "                         \"PaLM\", \"LLaMA\", \"Alpaca\", \"BLOOM\", \"OPT\",\n",
    "                         \"Sparrow\", \"盘古α\"],\n",
    "    \"[OTHER_GROUP_NAME]\": [\"OpenAI\", \"Microsoft\", \"Google\", \"Facebook\", \n",
    "                           \"腾讯\", \"华为\", \"字节跳动\", \"阿里巴巴\", \"百度\", \n",
    "                           \"智源\", \"商汤\", \"搜狗\", \"北大\", \"中科院\", \"人大\"]\n",
    "}\n",
    "\n",
    "with open(\"data/self_cognition_filtered.jsonl\", \"r\") as f:\n",
    "    data = f.readlines()\n",
    "\n",
    "with open(\"output/self_cognition/self_cognition.jsonl\", \"w\") as f:\n",
    "    for line in data:\n",
    "        found = False\n",
    "        for k, v in sub_rules.items():\n",
    "            if k in line:\n",
    "                found = True\n",
    "                for vv in v:\n",
    "                    new_line = line.replace(k, vv)\n",
    "                    f.write(new_line)\n",
    "        if not found:\n",
    "            f.write(line)"
   ]
  }
 ],
 "metadata": {
  "kernelspec": {
   "display_name": "LLM",
   "language": "python",
   "name": "python3"
  },
  "language_info": {
   "codemirror_mode": {
    "name": "ipython",
    "version": 3
   },
   "file_extension": ".py",
   "mimetype": "text/x-python",
   "name": "python",
   "nbconvert_exporter": "python",
   "pygments_lexer": "ipython3",
   "version": "3.9.0"
  },
  "orig_nbformat": 4
 },
 "nbformat": 4,
 "nbformat_minor": 2
}
