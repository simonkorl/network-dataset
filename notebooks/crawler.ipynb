{
 "cells": [
  {
   "attachments": {},
   "cell_type": "markdown",
   "metadata": {},
   "source": [
    "# Crawl data from ISP websites"
   ]
  },
  {
   "cell_type": "code",
   "execution_count": 1,
   "metadata": {},
   "outputs": [],
   "source": [
    "import requests\n",
    "\n",
    "def get_page(url):\n",
    "    try:\n",
    "        response = requests.get(url)\n",
    "        return response.text\n",
    "    except:\n",
    "        return \"\"\n",
    "    \n",
    "def get_all_links(page):\n",
    "    links = []\n",
    "    while True:\n",
    "        url, endpos = get_next_target(page)\n",
    "        if url:\n",
    "            links.append(url)\n",
    "            page = page[endpos:]\n",
    "        else:\n",
    "            break\n",
    "    return links\n",
    "\n",
    "def get_next_target(page):\n",
    "    start_link = page.find('<a href=')\n",
    "    if start_link == -1:\n",
    "        return None, 0\n",
    "    start_quote = page.find('\"', start_link)\n",
    "    end_quote = page.find('\"', start_quote+1)\n",
    "    url = page[start_quote+1:end_quote]\n",
    "    return url, end_quote"
   ]
  },
  {
   "cell_type": "code",
   "execution_count": 6,
   "metadata": {},
   "outputs": [
    {
     "name": "stdout",
     "output_type": "stream",
     "text": [
      "412\n",
      "<!DOCTYPE html PUBLIC \"-//W3C//DTD XHTML 1.0 Transitional//EN\" \"http://www.w3.org/TR/xhtml1/DTD/xhtml1-transitional.dtd\">\n",
      "<html>\n",
      "<head>\n",
      "<meta http-equiv=\"Content-Type\" content=\"text/html; charset=utf-8\">\n",
      "<meta content=\"{qr1De309c5~@W8xjbpHJKE7IOp5SMzwwP2P9A3zdvDoI8R2CuqX0UgYwvpCQpxewjp6UwNy0OV8zrNTk2bt0wFpNno5zM7SppSq4FY2NEKa.Yu3wwVRbpbmpx2mPYCfRETm2YCTR3TT6K6ZAH9Rfp6mBiK90MkfUtSTjpvzDQ2luVUxIQTTSoV2QpT0qo2wqVYwgov0A8pTJqARrU2JIK0ZwUlwhAm3wVTJwUvrMUTy9V0aAD9RmpTTBRryVpTw83pgIwYJ3VGYCKsYEhGLV8PRPqK3arslckSruF1poxTyGUkf8EbeOlqYUHTgcACzmm9Vc1cEkxYzG8fYQtoYycqwQtmgnoOmokmgZo9rMWTwVqkahrqqcUrrPH9AwQuyQcKWWlmpNqVQQU2TQrTgIMa98D0QFUPLgqqlmhG4{qFmzoH2SuocZxWr75cSpoqa9pqAroraQErA9Dir9wkpLQqaQmJaVioa9kkVlqrqVwItuJDY9YrFmNHVS3oDaG8cp7tDA7Mkr9r0r7Vx5VK0Sd8leWA6SkImJEsqY9.O4LxK0P1QW5NtybGPMmr0t1083179040h9s0y3oEiaSnqqqqqq~ lJg7z6_BRRAa2Kb1wwgnOobrwEJ5SscrwJAnzV5lILrdOo1SsZ0avvDQwQZn9VDa3RfLGKF41326G6_CK.NQncP_87fIubzsK2r6YbfX8bzmYmfVx9N4HDJ4YVT.MseipkSx1UNOVv7fQCJQxUeMI2pU1UruRPA.E1mvYDzaK9f_IoJYRDR4mvfm8YYMVDx5FTaLUcqxASrbs13R3DpiDVmOUfSs1VrfVCzrQ0zfR0yFAoYYQf2k3PJ_tozmU6N0YvyEsvT71qewW0gxIaTqD0R0VceutUZjIsJholYn8kS2hvg.FoTLo6zL1qY6ED74IsNollqkVqELmULZIDZNloWQ3oaStUqWRqA7Amaa1kxnVuZzFcz1knlRUcSmh2ZOE1auVqqqqqqqqqq{-1BfgavHEQJE9vO6QkgZg9sOU3Pg2wcRGhvm.xU3gF6W23nyXEbQXMbz6Jna2FkaXkv0yIu9y3OagRnN6EkS.WD06HCL5Ic7LQ1yyxPfSEbgNQcN1hCVjYPNk8pydl6mvH9WPpa2QhVaXKA8http:ZUUD8QMgm6Kh4fh3pib1lA:80QwZRqe9sSsdmodlIupIJH5VsTpBel~RmKreknqgRszJmPgw3kT_k6WJ8YWPUYAEEkJSUngfYSRMrb0UI9NmHcQPw0Rls1geMAmMtma0U0mVkUlb8kefongaQQNgZ0InE4fI4muOAzwqZn4vp5YVXVslQ.wJSDUKUezZaP4b8wY8ZKICYzwGLYoaptroL2BHRQf0TnsRIBmnyTkbYyGX_6oHVJYrZ9tVVHY49niAQQ2IS0dcAzf_C14XwHS1ZmhcE8m8TKci8IGGeDH0wJNoCVKJie9bO1uwEJ94jbM_Q_fwZlKOs_Jo7YPNi_0b51nNEt04NbMCpyesdnDIVMx1zlcehXm7ymPVxh25Po5NKimvBTXyVMNebvC1KFVqqik3Z0BObLJt3gNAqr4r0r1.iEr5gC5xk6E7Lf38Mvl4pPb71pHC.6Ai1ubO7Vg6xyWhHcXOJk49RbahKI4qVGtUX6Ek674l4096qqqqqq ]7z,aac,amr,asm,avi,bak,bat,bmp,bin,c,cab,css,csv,com,cpp,dat,dll,doc,dot,docx,exe,eot,fla,flc,fon,fot,font,gdb,gif,gho,hlp,hpp,htc,ico,ini,inf,ins,iso,js,jar,jpg,jpeg,json,java,lib,log,mid,mp4,mpa,m4a,mp3,mpg,mkv,mod,mov,mim,mpp,msi,mpeg,obj,ocx,ogg,olb,ole,otf,py,pyc,pas,pgm,ppm,pps,ppt,pdf,pptx,png,pic,pli,psd,qif,qtx,ra,rm,ram,rmvb,reg,res,rtf,rar,so,sbl,sfx,swa,swf,svg,sys,taz,tif,tiff,torrent,txt,ttf,vsd,vss,vsw,vxd,woff,woff2,wmv,wma,wav,wps,xbm,xpm,xls,xlsx,xsl,xml,z,apk,plist,ipaqqqqqqqqq\"><!--[if lt IE 9]><script r='m'>document.createElement(\"section\")</script><![endif]--><script type=\"text/javascript\" charset=\"iso-8859-1\" src=\"/69dcJlZnWuow/lN5CvLacRcP6.e309c5f.js\" r='m'></script><script type=\"text/javascript\" r=\"m\">(function(){var _$nT=0,_$$A=[[6,10,2,0,7,8,3,5,1,9,4],[45,31,21,31,70,36,12,4,98,33,13,59,42,59,18,5,77,59,49,97,94,10,102,20,14,17,16,43,71,28,59,73,55,15,32,29,40,63,46,83,54,22,63,27,30,101,8,48,63,86,69,84,36,99,63,87,91,39,79,57,92,60,6,63,61,7,63,62,85,100,25,59,68,50,72,100,0,1,59,26,100,59,75,58,36,19,9,66,23,35,64,35,59,53,38,88,3,44,90,74,47,37,65,76,51,82,89,93,81,24,80,41,52,11,34,2,95,56,67,96,78,59],[0,24,18,24,20,16,21,30,27,15,32,7,25,13,10,32,2,5,26,19,1,19,17,29,11,23,8,3,8,31,8,9,8,33,28,8,14,8,4,12,6,22,32],[32,9,36,20,39,25,14,33,48,45,34,28,7,12,31,21,35,5,26,19,42,24,37,12,44,39,8,16,4,38,41,9,43,23,3,10,43,40,30,15,17,30,29,27,12,30,18,27,5,0,13,47,11,1,6,33,27,18,0,29,46,2,22,17],[15,14,20,10,32,9,8,16,1,14,30,22,6,22,0,14,34,33,0,3,18,7,5,4,11,31,12,3,26,27,29,28,19,4,13,12,23,26,14,21,24,35,25,17,16,2,14]];function _$T3(_$Y3,_$iT){return _$px.Math.abs(_$Y3)%_$iT;}function _$2T(_$oP){var _$x7=_$Ev(_$oP);var _$x7=_$oP[_$T3(_$B5()+_$$Z(),16)];_$oP[2]=_$Ud()-_$oP[_$T3(_$Wr(),16)];_$oP[11]=_$B5();_$w4(_$oP);return _$DC(_$oP);}function _$Ev(_$oP){_$oP[8]=_$OL();_$oP[4]=_$mw();_$oP[_$T3(_$Ud(),16)]=_$hf();return _$wV();}function _$OL(){return 6}function _$mw(){return 2}function _$Ud(){return 9}function _$hf(){return 15}function _$wV(){return 5}function _$B5(){return 1}function _$$Z(){return 7}function _$Wr(){return 12}function _$w4(_$oP){var _$x7=_$kg();var _$dr=_$d2(_$oP);var _$dr=_$eh();var _$x7=_$Ca(_$oP);var _$x7=_$G5();_$Ff(_$oP);_$oP[6]=_$G5()+_$EO();var _$dr=_$wV();var _$va=_$oP[_$T3(_$eh(),16)];return _$sv(_$oP);}function _$kg(){return 0}function _$d2(_$oP){_$oP[12]=_$9C();_$oP[8]=_$OL();var _$va=_$EO();var _$va=_$Ud();return _$hf();}function _$9C(){return 10}function _$EO(){return 3}function _$eh(){return 8}function _$Ca(_$oP){_$oP[_$T3(_$G5(),16)]=_$EO();_$oP[9]=_$hf();_$oP[5]=_$IM();return _$B5();}function _$G5(){return 13}function _$IM(){return 11}function _$Ff(_$oP){_$oP[_$T3(_$Qg(),16)]=_$Wr();_$yB(_$oP);var _$x7=_$$Z();var _$x7=_$G5();_$CO(_$oP);return _$oP[_$T3(_$eh(),16)];}function _$Qg(){return 14}function _$yB(_$oP){_$oP[8]=_$OL();_$oP[_$T3(_$G5(),16)]=_$EO();_$oP[_$T3(_$Qg(),16)]=_$Wr();return _$9C();}function _$CO(_$oP){_$oP[9]=_$hf();_$oP[_$T3(_$9C(),16)]=_$eh();_$oP[6]=_$9U();var _$dr=_$Ud();var _$x7=_$hf();return _$wV();}function _$9U(){return 4}function _$sv(_$oP){var _$va=_$EO();var _$x7=_$Ud();var _$dr=_$B5();if(_$Wr()){var _$va=_$$Z();}_$oP[14]=_$Wr();var _$dr=_$kg();if(_$IM()){var _$va=_$$Z();}var _$va=_$9C();return _$B5()+_$$Z();}function _$DC(_$oP){_$oP[0]=_$Rp(_$oP);var _$va=_$G5();if(_$oP[_$T3(_$eh(),16)]){var _$dr=_$EO();}var _$dr=_$G5();_$oP[3]=_$Ud();_$oP[15]=_$wV();return _$oP[_$T3(_$B5()+_$$Z(),16)];}function _$Rp(_$oP){_$oP[12]=_$9C();_$oP[_$T3(_$B5(),16)]=_$$Z();var _$va=_$kg();var _$dr=_$Qg();return _$Wr();}function _$EZ(_$oP){_$oP[_$T3(_$Wr(),16)]=_$9C();_$oP[_$T3(_$B5(),16)]=_$$Z();_$oP[_$T3(_$mw(),16)]=_$kg();var _$dr=_$wV();var _$x7=_$IM();return _$B5();}var _$G6,_$H5,_$px,_$Y2,_$ES,_$vC,_$5o,_$Iz,_$2T;var _$2t,_$FI,_$Ax=_$nT,_$x0=_$$A[0];while(1){_$FI=_$x0[_$Ax++];if(_$FI<4){if(_$FI<1){_$Ax+=5;}else if(_$FI<2){_$Ax+=-5;}else if(_$FI<3){_$Iz=_$px['$_ts'];}else{_$Iz=_$px['$_ts']={};}}else if(_$FI<8){if(_$FI<5){_$Ax+=-6;}else if(_$FI<6){_$aN(0);}else if(_$FI<7){_$G6=[4,16,64,256,1024,4096,16384,65536];}else{return;}}else{if(_$FI<9){if( !_$2t)_$Ax+=1;}else if(_$FI<10){_$2t= !_$Iz;}else{_$px=window,_$Y2=String,_$ES=Array,_$vC=document,_$5o=Date;}}}function _$aN(_$Ev,_$Y3){function _$OC(){var _$T3=_$rq.charCodeAt(_$Fo++ ),_$nT;if(_$T3<128){return _$T3;}else if(_$T3<251){return _$T3-32;}else if(_$T3===251){return 0;}else if(_$T3===254){_$T3=_$rq.charCodeAt(_$Fo++ );if(_$T3>=128)_$T3-=32;_$nT=_$rq.charCodeAt(_$Fo++ );if(_$nT>=128)_$nT-=32;return _$T3*219+_$nT;}else if(_$T3===255){_$T3=_$rq.charCodeAt(_$Fo++ );if(_$T3>=128)_$T3-=32;_$nT=_$rq.charCodeAt(_$Fo++ );if(_$nT>=128)_$nT-=32;_$T3=_$T3*219*219+_$nT*219;_$nT=_$rq.charCodeAt(_$Fo++ );if(_$nT>=128)_$nT-=32;return _$T3+_$nT;}else if(_$T3===252){_$nT=_$rq.charCodeAt(_$Fo++ );if(_$nT>=128)_$nT-=32;return -_$nT;}else if(_$T3===253){_$T3=_$rq.charCodeAt(_$Fo++ );if(_$T3>=128)_$T3-=32;_$nT=_$rq.charCodeAt(_$Fo++ );if(_$nT>=128)_$nT-=32;return _$T3* -219-_$nT;}else{}}var _$rM,_$4q,_$va,_$eI,_$rq,_$yl,_$gl,_$T3,_$nT,_$Ax,_$2t,_$tP,_$FI,_$x0,_$oP,_$6C,_$jR,_$dr,_$x7,_$Fo;var _$mw,_$hf,_$OL=_$Ev,_$wV=_$$A[1];while(1){_$hf=_$wV[_$OL++];if(_$hf<64){if(_$hf<16){if(_$hf<4){if(_$hf<1){return 1;}else if(_$hf<2){return 0;}else if(_$hf<3){_$Y3._$1Y=\"_$IF\";}else{_$Y3._$3j=\"_$9C\";}}else if(_$hf<8){if(_$hf<5){_$OL+=1;}else if(_$hf<6){for(_$T3=0,_$nT=0;_$nT<_$Ax;_$nT+=2){_$2t[_$T3++ ]=_$tP+_$Y3.substr(_$nT,2);}}else if(_$hf<7){_$Iz._$nT-=_$aN(12);}else{_$aN(79,_$x7);}}else if(_$hf<12){if(_$hf<9){var _$eI=_$OC();}else if(_$hf<10){_$OL+=2;}else if(_$hf<11){_$T3+=\"0EpCcR6vmL9Dc1EJq1sSULPsaHaYiu0mrtN3_$WoJEetMp9RcLbMBl1YQzsD27O2_ZBWye94hqbN9FWQZGdqDpXpSRAMTmTQIp_6Ajz8gcICodOgOidkLq8o2IAwMlTMjIgeP_DQV2wz$rCWjb4XaDHD6LXyt3OVseoXswoluW5EA0W6r7GUjKPEyuXd\";}else{_$Y3._$Bl=\"_$8j\";}}else{if(_$hf<13){_$aN(31);}else if(_$hf<14){_$px['$_ts'].l__=_$Iz.l__;}else if(_$hf<15){_$T3+=\"AnKhJ1uUqpgj2x6ZOxKmSPvQHH5beJC3rlSTyN$mLtVAyfWAGZpP0STw0XGzrbVlts0LD5RETlBqqcguHeN6wIebeCMicT5cA$coWtADQfmEd7jB1I8WbDMXhTsxXCSM8_4H08UEDqZ5Lx7mhVUTcGrGfmxp5t0dn4oC$c3MAPvUO7xvmjTplq7Wm6Qj\";}else{_$Iz[\"e309c5f\"]=_$H5;}}}else if(_$hf<32){if(_$hf<20){if(_$hf<17){_$T3+=\"M2XEML$Pr2uGwQ2cWRisEj4gCDNFfKUlu43LLBfPdAdvZmsKyOrT5FZ7OI9XGEP3CRwxDSZEEtHLTLIt65f101ATBgpMCMtzee4RZl_7QYjFuK5uOKC_JgfxGX6wV63JcyxyhEZy73gSWWoUaRsrbEqABFJCqEvhs4y9By_E9gBfOJMEqn7n7pKadWkl\";}else if(_$hf<18){_$T3+=\"RPCnVCsRxRQy_MBUXf$O5Qd9jEWmJP9Y3uyVUa6tas3kiyWK_Bwh8BqXHS8S47SXMxpNfs4INgvp1uy2iAy8KP5GlP6yBNeQE3Gqfyqj2nlhvBEYL_hh9QxG95flBXv8CYPe11Q6mpNGPhupkb3_HxA3Z___h$ccOFcZrLjQ4KMcFPPLzxEojlPbeuDY\";}else if(_$hf<19){var _$T3,_$nT,_$Ax=_$Y3.length,_$2t=new _$ES(_$Ax/2),_$tP='_$';}else{_$T3=_$px.execScript(_$Y3);}}else if(_$hf<24){if(_$hf<21){_$T3+=\"oMbBD9WIYSBkfRyAN857g_3gtCSyFaFV$WctCGYCtn1tbpO9QE1fs9Hz3KFiWvr3ZSYyIwH70yE_P0p5N18TNLCFYhFD_D3EaZD07UZk1gOY$FAEmOBOn_0xhS4oBAIAL3rI7IRkBGkv2fukju15ggYDM_PtAVQQJIuVHo_dQ2v49AEI0ZdPtICrgzeg\";}else if(_$hf<22){return _$T3;}else if(_$hf<23){var _$Fo=0;}else{_$T3=_$nT.call(_$px,_$Y3);}}else if(_$hf<28){if(_$hf<25){_$Y3._$nH=\"86XRMG4sLda\";}else if(_$hf<26){_$Iz._$bM=1;}else if(_$hf<27){_$mw=_$Y3===undefined||_$Y3===\"\";}else{var _$tP=_$OC();}}else{if(_$hf<29){return _$aN(14,_$T3);}else if(_$hf<30){var _$T3=_$aN(12);}else if(_$hf<31){var _$FI=_$OC();}else{_$OL+=88;}}}else if(_$hf<48){if(_$hf<36){if(_$hf<33){var _$yl=_$Iz._$i3;}else if(_$hf<34){_$px['$_ts']={};}else if(_$hf<35){_$Y3._$oP=\"_$bn\";}else{_$OL+=-88;}}else if(_$hf<40){if(_$hf<37){if( !_$mw)_$OL+=2;}else if(_$hf<38){_$Y3._$aT=\"_$kg\";}else if(_$hf<39){_$Y3._$px=1;}else{var _$jR=_$OC();}}else if(_$hf<44){if(_$hf<41){var _$nT=_$aN(12);}else if(_$hf<42){_$Y3._$x0=\"UbzjFEvR2jx1rRevj08yiA\";}else if(_$hf<43){return new _$5o().getTime();}else{_$T3+=\"TnPkZVoTd$H0tYc3$Vbo8MKzR1$nrPzsIFofkf_caC6V8F_eD__CW2VTFNI5J$MYZjbfv7AvH3TWFKF67FD3d8yCdheHdJxwMCXgTsgfJeS0AUlgGPd6gNG1rit5wPLwVogODuLcBnLgdfYJ2FgoIhy4nfBIzD7fEXT99i10b$81ZT4umBbC5CT81X8k\";}}else{if(_$hf<45){_$Y3._$oS=\"_$B5\";}else if(_$hf<46){_$Iz._$i3=_$aN(18);}else if(_$hf<47){var _$gl=_$Iz.aebi=[];}else{_$Y3._$wy=\"_$w4\";}}}else{if(_$hf<52){if(_$hf<49){var _$x0=_$OC();}else if(_$hf<50){var _$T3='';}else if(_$hf<51){_$T3=_$T3.replace(RegExp('[\\\\r\\\\n\\\\s]','g'),\"\");}else{_$Y3._$mw=\"_$EO\";}}else if(_$hf<56){if(_$hf<53){_$Y3._$8$=108;}else if(_$hf<54){_$Y3._$qK=38;}else if(_$hf<55){var _$2t=_$rq.length;}else{var _$rq=_$Iz[\"e309c5f\"];}}else if(_$hf<60){if(_$hf<57){_$Y3._$Qz=\"_$5a\";}else if(_$hf<58){for(_$dr=0;_$dr<_$jR;_$dr++ ){_$6C.push(\"}\");}}else if(_$hf<59){_$mw=_$px.execScript;}else{return;}}else{if(_$hf<61){var _$x7=_$6C.join('');}else if(_$hf<62){_$nT=_$aN(12);}else if(_$hf<63){var _$va=_$aN(12);}else{}}}}else{if(_$hf<80){if(_$hf<68){if(_$hf<65){_$aN(93,_$Iz);}else if(_$hf<66){_$Y3._$po=\"_$d2\";}else if(_$hf<67){_$nT=_$px.eval;}else{_$Y3._$tP=\"_$Kt\";}}else if(_$hf<72){if(_$hf<69){var _$T3=_$px.eval.toString();}else if(_$hf<70){var _$oP=_$OC();}else if(_$hf<71){_$mw=_$Iz[\"e309c5f\"];}else{_$T3+=\"cmQw_zjyTqliuqPiPrIubiUZcgWkurHFdbUjvxBhRrCkkLH6qP$D3GlTIkkZjp_3IS2bI04Aim28rfkPXvKZ22ywlf8IzkXWlv$LLLAHDMb8nyOm2WWZbU3359YtR0UH$e4pGscKYMMyo6Kgz7CdCjcMk3dBK2acb_3nwNZwN$QPncr5JLbJUsbxePpczZvS\";}}else if(_$hf<76){if(_$hf<73){_$mw=_$T3!==\"functioneval(){[nativecode]}\";}else if(_$hf<74){_$Iz._$nT=new _$5o().getTime();}else if(_$hf<75){_$Y3._$bG=\"_$Wr\";}else{var _$T3;}}else{if(_$hf<77){_$Y3._$U2=\"_$eh\";}else if(_$hf<78){return _$2t;}else if(_$hf<79){_$Y3._$jR=\"_$bq\";}else{for(_$dr=0;_$dr<_$jR;_$dr++ ){_$1w(16,_$dr,_$6C);}}}}else if(_$hf<96){if(_$hf<84){if(_$hf<81){_$Y3._$Y2=_$2T;}else if(_$hf<82){_$Y3._$5o=\"frphzkwJTpEjXgthAtO9bg\";}else if(_$hf<83){_$Y3._$OL=\"_$FI\";}else{var _$Ax=_$aN(72);}}else if(_$hf<88){if(_$hf<85){_$mw=_$jR>0;}else if(_$hf<86){_$mw=_$va-_$T3>12000;}else if(_$hf<87){_$jR=_$OC();}else{_$Fo+=_$oP;}}else if(_$hf<92){if(_$hf<89){_$Y3._$Co=1;}else if(_$hf<90){_$Y3._$ES=\"h_4DlYWliza\";}else if(_$hf<91){_$Y3._$GS=\"_$$Z\";}else{var _$6C=[];}}else{if(_$hf<93){_$6C.push(\")();\");}else if(_$hf<94){_$Y3._$Jl=\"jbxZAJ3hL3a\";}else if(_$hf<95){_$T3+=\"6emnGLENW9PSxOz$KsEqZbdduj0HkjKXbbRxaj4DnpaeU$Kwpvz4XA0Va2w0b155$QLn96dFGIQtTEWN9E0Ou_LbE5qyfCGSoSwyaTpo3jbGU2mol4bqaAKt6qJzfazbPGA79KPUe6ubbn0lzGvif8T78$5Ltma_aXi3tuybz_LjQLarg1JqMVV9WVXZ\";}else{_$Y3._$6C=\"_$PG\";}}}else{if(_$hf<100){if(_$hf<97){_$Y3._$sD=\"_$Ri\";}else if(_$hf<98){_$T3+=\"G6H5pxY2ESvC5oIz2TY3iTOCrqylglForMeI4q2ySonHZzZrDWWO$v_on7jPooztusiqMDnMqKCoJlPODK$AdXaN1w19hCT3nTAx2ttPFIx0oP6CjRdrx7vaEvOLmwUdhfwVB5$ZWrw4kgd29CEOehCaG5IMFfQgyBCO9UsvDCRpEZpwbtVeqrwgXqDD\";}else if(_$hf<99){_$1w(0);}else{_$4q=_$rq.substr(_$Fo,_$oP).split(_$Y2.fromCharCode(255));}}else{if(_$hf<101){if( !_$mw)_$OL+=1;}else if(_$hf<102){var _$rM=_$OC();}else{_$T3+=\"NI_KEE8XNm46UQ8maI7MdaSrC4dn3TGdhxhbfItgnnoqn57yZOaOnNJ8ZqE9q$EzrSckvbe4evEdkJkyUIMJ$uCbcDcEX1tbhawYwd4r42yQpTYcIrA8O8$8UywpjmTBkWaKJhLhmmStY8Z24CapY7Nl6cQh9kQV6N916UdU3S7iYdG73oc_DdbmUAtq\";}}}}}function _$1w(_$2t,_$2y,_$So){function _$nH(){var _$x0=[0];Array.prototype.push.apply(_$x0,arguments);return _$19.apply(this,_$x0);}var _$us,_$iq,_$MD,_$T3,_$nT,_$Ax,_$Zz,_$Zr,_$DW,_$WO,_$$v,_$_o,_$n7,_$jP,_$oo,_$zt;var _$FI,_$oP,_$tP=_$2t,_$6C=_$$A[2];while(1){_$oP=_$6C[_$tP++];if(_$oP<16){if(_$oP<4){if(_$oP<1){var _$T3=_$vC.scripts.length;}else if(_$oP<2){var _$nT=_$T3>1?_$vC.scripts[_$T3-2].src:_$H5;}else if(_$oP<3){var _$Zz=_$OC();}else{var _$oo=_$1w(11);}}else if(_$oP<8){if(_$oP<5){var _$nT=_$OC();}else if(_$oP<6){var _$Zr=_$OC();}else if(_$oP<7){for(_$Ax=0;_$Ax<_$nT;_$Ax++ ){_$MD[_$Ax]=_$1w(11);}}else{var _$T3=_$OC();}}else if(_$oP<12){if(_$oP<9){}else if(_$oP<10){var _$us=_$1w(11);}else if(_$oP<11){return _$nT;}else{var _$n7=_$OC();}}else{if(_$oP<13){var _$MD=[];}else if(_$oP<14){for(_$Ax=0;_$Ax<_$T3;_$Ax++ ){_$nT[_$Ax]=_$OC();}}else if(_$oP<15){var _$iq=_$1w(11);}else{_$Zz.send();}}}else if(_$oP<32){if(_$oP<20){if(_$oP<17){if( !_$FI)_$tP+=4;}else if(_$oP<18){var _$$v=_$OC();}else if(_$oP<19){var _$WO=_$OC();}else{_$tP+=-18;}}else if(_$oP<24){if(_$oP<21){_$FI=_$nT;}else if(_$oP<22){_$Zz=_$px.ActiveXObject?new _$px.ActiveXObject('Microsoft.XMLHTTP'):new _$px.XMLHttpRequest();}else if(_$oP<23){_$19(9,_$So);}else{var _$jP=_$OC();}}else if(_$oP<28){if(_$oP<25){_$tP+=18;}else if(_$oP<26){var _$nT=new _$ES(_$T3);}else if(_$oP<27){var _$DW=_$OC();}else{_$Zz.onreadystatechange=_$nH;}}else{if(_$oP<29){_$gl[_$2y]=_$T3;}else if(_$oP<30){var _$_o=_$OC();}else if(_$oP<31){_$Zz.open('GET',_$nT,false);}else{var _$zt=_$1w(11);}}}else{if(_$oP<33){return;}else{var _$T3=_$1w(11);}}}function _$19(_$nT,_$nM){var _$qK,_$T3;var _$2t,_$FI,_$Ax=_$nT,_$x0=_$$A[3];while(1){_$FI=_$x0[_$Ax++];if(_$FI<16){if(_$FI<4){if(_$FI<1){_$nM.push(\"[\");}else if(_$FI<2){if( !_$2t)_$Ax+=9;}else if(_$FI<3){_$hC(10,0,_$MD.length);}else{for(_$T3=1;_$T3<_$zt.length;_$T3++ ){_$nM.push(\",\");_$nM.push(_$yl[_$zt[_$T3]]);}}}else if(_$FI<8){if(_$FI<5){for(_$T3=0;_$T3<_$us.length;_$T3+=2){_$hC(0,_$us[_$T3],_$us[_$T3+1],_$nM);}}else if(_$FI<6){_$nM.push(_$yl[_$eI]);}else if(_$FI<7){_$nM.push(\"while(1){\");}else{_$nM.push(\"(function(){var \");}}else if(_$FI<12){if(_$FI<9){for(_$T3=0;_$T3<_$oo.length;_$T3++ ){_$nM.push(\",\");_$nM.push(_$yl[_$oo[_$T3]]);}}else if(_$FI<10){if( !_$2t)_$Ax+=4;}else if(_$FI<11){_$nM.push(\";\");}else{_$2t=_$MD.length;}}else{if(_$FI<13){_$nM.push(_$yl[_$Zr]);}else if(_$FI<14){_$nM.push(_$2y);}else if(_$FI<15){_$Ax+=33;}else{_$Ax+=-33;}}}else if(_$FI<32){if(_$FI<20){if(_$FI<17){_$nM.push(\"){\");}else if(_$FI<18){return;}else if(_$FI<19){_$nM.push(_$yl[_$jP]);}else{_$Ax+=8;}}else if(_$FI<24){if(_$FI<21){_$2t=_$Iz[\"e309c5f\"];}else if(_$FI<22){_$nM.push(_$yl[_$rM]);}else if(_$FI<23){_$nM.push(\"}\");}else{_$nM.push(_$yl[_$zt[0]]);}}else if(_$FI<28){if(_$FI<25){_$nM.push(_$yl[_$$v]);}else if(_$FI<26){_$aN(31);}else if(_$FI<27){_$nM.push(\"=$_ts.aebi;\");}else{_$nM.push(\"=\");}}else{if(_$FI<29){if( !_$2t)_$Ax+=8;}else if(_$FI<30){_$nM.push(_$yl[_$Zz]);}else if(_$FI<31){_$nM.push(\",\");}else{_$nM.push(\"=0,\");}}}else if(_$FI<48){if(_$FI<36){if(_$FI<33){_$2t=_$Zz.readyState==4;}else if(_$FI<34){_$nM.push(_$yl[_$n7]);}else if(_$FI<35){_$2t=_$2y==0;}else{_$nM.push(\"=$_ts.scj,\");}}else if(_$FI<40){if(_$FI<37){_$aN(79,_$Zz.responseText);}else if(_$FI<38){_$nM.push(\"(\");}else if(_$FI<39){_$hC(12);}else{if( !_$2t)_$Ax+=1;}}else if(_$FI<44){if(_$FI<41){_$nM.push(_$yl[_$DW]);}else if(_$FI<42){_$2t=_$zt.length;}else if(_$FI<43){_$nM.push(\"function \");}else{_$nM.push(\"var \");}}else{if(_$FI<45){_$2t=_$oo.length;}else if(_$FI<46){var _$T3,_$qK=4;}else if(_$FI<47){_$nM.push(\"++];\");}else{_$nM.push(\"];\");}}}else{_$Ax+=32;}}function _$hC(_$tP,_$Co,_$Jl,_$PO){var _$nT,_$Ax,_$2t,_$T3;var _$x0,_$6C,_$FI=_$tP,_$jR=_$$A[4];while(1){_$6C=_$jR[_$FI++];if(_$6C<16){if(_$6C<4){if(_$6C<1){if( !_$x0)_$FI+=2;}else if(_$6C<2){_$nM.push(_$4q[_$T3[_$nT]]);}else if(_$6C<3){_$nM.push(_$4q[_$iq[_$T3]]);}else{_$hC(2,_$Co);}}else if(_$6C<8){if(_$6C<5){_$nT=\"if(\";}else if(_$6C<6){if( !_$x0)_$FI+=7;}else if(_$6C<7){var _$T3=_$iq.length;}else{_$x0=_$2t<=_$qK;}}else if(_$6C<12){if(_$6C<9){_$x0=_$T3.length!=_$nT;}else if(_$6C<10){for(_$Ax=0;_$Ax<_$nT;_$Ax+=2){_$nM.push(_$4q[_$T3[_$Ax]]);_$nM.push(_$yl[_$T3[_$Ax+1]]);}}else if(_$6C<11){var _$nT=_$T3.length;}else{_$Jl-- ;}}else{if(_$6C<13){_$nM.push(\"}else{\");}else if(_$6C<14){for(;_$Co+_$Ax<_$Jl;_$Co+=_$Ax){_$nM.push(_$nT);_$nM.push(_$yl[_$n7]);_$nM.push('<');_$nM.push(_$Co+_$Ax);_$nM.push(\"){\");_$hC(10,_$Co,_$Co+_$Ax);_$nT=\"}else if(\";}}else if(_$6C<15){return;}else{_$PO.push([\"function \",_$yl[_$Co],\"(){var \",_$yl[_$WO],\"=[\",_$Jl,\"];Array.prototype.push.apply(\",_$yl[_$WO],\",arguments);return \",_$yl[_$_o],\".apply(this,\",_$yl[_$WO],\");}\"].join(''));}}}else if(_$6C<32){if(_$6C<20){if(_$6C<17){if( !_$x0)_$FI+=1;}else if(_$6C<18){_$x0=_$iq.length!=_$T3;}else if(_$6C<19){_$FI+=17;}else{}}else if(_$6C<24){if(_$6C<21){var _$T3=_$MD[_$Co];}else if(_$6C<22){_$x0=_$2t==0;}else if(_$6C<23){_$FI+=27;}else{_$hC(10,_$Co,_$Jl);}}else if(_$6C<28){if(_$6C<25){_$FI+=-27;}else if(_$6C<26){for(_$nT=0;_$nT<_$T3;_$nT+=2){_$nM.push(_$4q[_$iq[_$nT]]);_$nM.push(_$yl[_$iq[_$nT+1]]);}}else if(_$6C<27){_$nM.push(\"}\");}else{_$FI+=8;}}else{if(_$6C<29){for(_$T3=1;_$T3<7;_$T3++ ){if(_$2t<=_$G6[_$T3]){_$Ax=_$G6[_$T3-1];break;}}}else if(_$6C<30){_$Ax=0;}else if(_$6C<31){var _$T3,_$nT,_$Ax,_$2t=_$Jl-_$Co;}else{for(;_$Co<_$Jl;_$Co++ ){_$nM.push(_$nT);_$nM.push(_$yl[_$n7]);_$nM.push('<');_$nM.push(_$Co+1);_$nM.push(\"){\");_$hC(2,_$Co);_$nT=\"}else if(\";}}}}else{if(_$6C<33){_$nT-=_$nT%2;}else if(_$6C<34){_$x0=_$2t==1;}else if(_$6C<35){_$FI+=21;}else{_$T3-=_$T3%2;}}}}}}}})()</script></head>\n",
      "<body>\n",
      "<script type='text/javascript' r='m'>\n",
      "_$5L('WEAY');\n",
      "</script>\n",
      "\n",
      "</body>\n",
      "</html>\n",
      "<script type=\"text/javascript\" r=\"m\">_$Ca();</script>\n"
     ]
    }
   ],
   "source": [
    "import requests\n",
    "\n",
    "url = \"http://iservice.10010.com/e4/transact/basic/common_question_iframe.html?menuCode=000500020002\"\n",
    "response = requests.get(url)\n",
    "print(response.status_code)\n",
    "print(response.text)"
   ]
  },
  {
   "cell_type": "code",
   "execution_count": 1,
   "metadata": {},
   "outputs": [],
   "source": [
    "import os\n",
    "\n",
    "proxy = 'http://dell-1.star:7890' # 3090 docker\n",
    "\n",
    "os.environ['http_proxy'] = proxy \n",
    "os.environ['HTTP_PROXY'] = proxy\n",
    "os.environ['https_proxy'] = proxy\n",
    "os.environ['HTTPS_PROXY'] = proxy"
   ]
  },
  {
   "cell_type": "code",
   "execution_count": 10,
   "metadata": {},
   "outputs": [
    {
     "ename": "WebDriverException",
     "evalue": "Message: \n",
     "output_type": "error",
     "traceback": [
      "\u001b[0;31m---------------------------------------------------------------------------\u001b[0m",
      "\u001b[0;31mWebDriverException\u001b[0m                        Traceback (most recent call last)",
      "Cell \u001b[0;32mIn[10], line 8\u001b[0m\n\u001b[1;32m      5\u001b[0m url \u001b[39m=\u001b[39m \u001b[39m\"\u001b[39m\u001b[39mhttp://iservice.10010.com/e4/transact/basic/common_question_iframe.html?menuCode=000500020002\u001b[39m\u001b[39m\"\u001b[39m\n\u001b[1;32m      6\u001b[0m \u001b[39m# url = \"https://angular.io/\"\u001b[39;00m\n\u001b[0;32m----> 8\u001b[0m driver \u001b[39m=\u001b[39m webdriver\u001b[39m.\u001b[39;49mChrome(\n\u001b[1;32m      9\u001b[0m     service\u001b[39m=\u001b[39;49mChromeService(ChromeDriverManager()\u001b[39m.\u001b[39;49minstall()),\n\u001b[1;32m     10\u001b[0m )\n\u001b[1;32m     11\u001b[0m driver\u001b[39m.\u001b[39mget(url)\n\u001b[1;32m     12\u001b[0m \u001b[39mprint\u001b[39m(driver\u001b[39m.\u001b[39mpage_source)\n",
      "File \u001b[0;32m/opt/conda/envs/LLM/lib/python3.9/site-packages/selenium/webdriver/chrome/webdriver.py:49\u001b[0m, in \u001b[0;36mWebDriver.__init__\u001b[0;34m(self, options, service, keep_alive)\u001b[0m\n\u001b[1;32m     45\u001b[0m \u001b[39mself\u001b[39m\u001b[39m.\u001b[39mkeep_alive \u001b[39m=\u001b[39m keep_alive\n\u001b[1;32m     47\u001b[0m \u001b[39mself\u001b[39m\u001b[39m.\u001b[39mservice\u001b[39m.\u001b[39mpath \u001b[39m=\u001b[39m DriverFinder\u001b[39m.\u001b[39mget_path(\u001b[39mself\u001b[39m\u001b[39m.\u001b[39mservice, \u001b[39mself\u001b[39m\u001b[39m.\u001b[39moptions)\n\u001b[0;32m---> 49\u001b[0m \u001b[39msuper\u001b[39;49m()\u001b[39m.\u001b[39;49m\u001b[39m__init__\u001b[39;49m(\n\u001b[1;32m     50\u001b[0m     DesiredCapabilities\u001b[39m.\u001b[39;49mCHROME[\u001b[39m\"\u001b[39;49m\u001b[39mbrowserName\u001b[39;49m\u001b[39m\"\u001b[39;49m],\n\u001b[1;32m     51\u001b[0m     \u001b[39m\"\u001b[39;49m\u001b[39mgoog\u001b[39;49m\u001b[39m\"\u001b[39;49m,\n\u001b[1;32m     52\u001b[0m     \u001b[39mself\u001b[39;49m\u001b[39m.\u001b[39;49moptions,\n\u001b[1;32m     53\u001b[0m     \u001b[39mself\u001b[39;49m\u001b[39m.\u001b[39;49mservice,\n\u001b[1;32m     54\u001b[0m     \u001b[39mself\u001b[39;49m\u001b[39m.\u001b[39;49mkeep_alive,\n\u001b[1;32m     55\u001b[0m )\n",
      "File \u001b[0;32m/opt/conda/envs/LLM/lib/python3.9/site-packages/selenium/webdriver/chromium/webdriver.py:54\u001b[0m, in \u001b[0;36mChromiumDriver.__init__\u001b[0;34m(self, browser_name, vendor_prefix, options, service, keep_alive)\u001b[0m\n\u001b[1;32m     51\u001b[0m \u001b[39mself\u001b[39m\u001b[39m.\u001b[39mservice\u001b[39m.\u001b[39mstart()\n\u001b[1;32m     53\u001b[0m \u001b[39mtry\u001b[39;00m:\n\u001b[0;32m---> 54\u001b[0m     \u001b[39msuper\u001b[39;49m()\u001b[39m.\u001b[39;49m\u001b[39m__init__\u001b[39;49m(\n\u001b[1;32m     55\u001b[0m         command_executor\u001b[39m=\u001b[39;49mChromiumRemoteConnection(\n\u001b[1;32m     56\u001b[0m             remote_server_addr\u001b[39m=\u001b[39;49m\u001b[39mself\u001b[39;49m\u001b[39m.\u001b[39;49mservice\u001b[39m.\u001b[39;49mservice_url,\n\u001b[1;32m     57\u001b[0m             browser_name\u001b[39m=\u001b[39;49mbrowser_name,\n\u001b[1;32m     58\u001b[0m             vendor_prefix\u001b[39m=\u001b[39;49mvendor_prefix,\n\u001b[1;32m     59\u001b[0m             keep_alive\u001b[39m=\u001b[39;49mkeep_alive,\n\u001b[1;32m     60\u001b[0m             ignore_proxy\u001b[39m=\u001b[39;49m\u001b[39mself\u001b[39;49m\u001b[39m.\u001b[39;49moptions\u001b[39m.\u001b[39;49m_ignore_local_proxy,\n\u001b[1;32m     61\u001b[0m         ),\n\u001b[1;32m     62\u001b[0m         options\u001b[39m=\u001b[39;49m\u001b[39mself\u001b[39;49m\u001b[39m.\u001b[39;49moptions,\n\u001b[1;32m     63\u001b[0m     )\n\u001b[1;32m     64\u001b[0m \u001b[39mexcept\u001b[39;00m \u001b[39mException\u001b[39;00m:\n\u001b[1;32m     65\u001b[0m     \u001b[39mself\u001b[39m\u001b[39m.\u001b[39mquit()\n",
      "File \u001b[0;32m/opt/conda/envs/LLM/lib/python3.9/site-packages/selenium/webdriver/remote/webdriver.py:206\u001b[0m, in \u001b[0;36mWebDriver.__init__\u001b[0;34m(self, command_executor, keep_alive, file_detector, options)\u001b[0m\n\u001b[1;32m    204\u001b[0m \u001b[39mself\u001b[39m\u001b[39m.\u001b[39m_authenticator_id \u001b[39m=\u001b[39m \u001b[39mNone\u001b[39;00m\n\u001b[1;32m    205\u001b[0m \u001b[39mself\u001b[39m\u001b[39m.\u001b[39mstart_client()\n\u001b[0;32m--> 206\u001b[0m \u001b[39mself\u001b[39;49m\u001b[39m.\u001b[39;49mstart_session(capabilities)\n",
      "File \u001b[0;32m/opt/conda/envs/LLM/lib/python3.9/site-packages/selenium/webdriver/remote/webdriver.py:291\u001b[0m, in \u001b[0;36mWebDriver.start_session\u001b[0;34m(self, capabilities)\u001b[0m\n\u001b[1;32m    283\u001b[0m \u001b[39m\u001b[39m\u001b[39m\"\"\"Creates a new session with the desired capabilities.\u001b[39;00m\n\u001b[1;32m    284\u001b[0m \n\u001b[1;32m    285\u001b[0m \u001b[39m:Args:\u001b[39;00m\n\u001b[1;32m    286\u001b[0m \u001b[39m - capabilities - a capabilities dict to start the session with.\u001b[39;00m\n\u001b[1;32m    287\u001b[0m \u001b[39m - browser_profile - A selenium.webdriver.firefox.firefox_profile.FirefoxProfile object. Only used if Firefox is requested.\u001b[39;00m\n\u001b[1;32m    288\u001b[0m \u001b[39m\"\"\"\u001b[39;00m\n\u001b[1;32m    290\u001b[0m caps \u001b[39m=\u001b[39m _create_caps(capabilities)\n\u001b[0;32m--> 291\u001b[0m response \u001b[39m=\u001b[39m \u001b[39mself\u001b[39;49m\u001b[39m.\u001b[39;49mexecute(Command\u001b[39m.\u001b[39;49mNEW_SESSION, caps)[\u001b[39m\"\u001b[39m\u001b[39mvalue\u001b[39m\u001b[39m\"\u001b[39m]\n\u001b[1;32m    292\u001b[0m \u001b[39mself\u001b[39m\u001b[39m.\u001b[39msession_id \u001b[39m=\u001b[39m response\u001b[39m.\u001b[39mget(\u001b[39m\"\u001b[39m\u001b[39msessionId\u001b[39m\u001b[39m\"\u001b[39m)\n\u001b[1;32m    293\u001b[0m \u001b[39mself\u001b[39m\u001b[39m.\u001b[39mcaps \u001b[39m=\u001b[39m response\u001b[39m.\u001b[39mget(\u001b[39m\"\u001b[39m\u001b[39mcapabilities\u001b[39m\u001b[39m\"\u001b[39m)\n",
      "File \u001b[0;32m/opt/conda/envs/LLM/lib/python3.9/site-packages/selenium/webdriver/remote/webdriver.py:346\u001b[0m, in \u001b[0;36mWebDriver.execute\u001b[0;34m(self, driver_command, params)\u001b[0m\n\u001b[1;32m    344\u001b[0m response \u001b[39m=\u001b[39m \u001b[39mself\u001b[39m\u001b[39m.\u001b[39mcommand_executor\u001b[39m.\u001b[39mexecute(driver_command, params)\n\u001b[1;32m    345\u001b[0m \u001b[39mif\u001b[39;00m response:\n\u001b[0;32m--> 346\u001b[0m     \u001b[39mself\u001b[39;49m\u001b[39m.\u001b[39;49merror_handler\u001b[39m.\u001b[39;49mcheck_response(response)\n\u001b[1;32m    347\u001b[0m     response[\u001b[39m\"\u001b[39m\u001b[39mvalue\u001b[39m\u001b[39m\"\u001b[39m] \u001b[39m=\u001b[39m \u001b[39mself\u001b[39m\u001b[39m.\u001b[39m_unwrap_value(response\u001b[39m.\u001b[39mget(\u001b[39m\"\u001b[39m\u001b[39mvalue\u001b[39m\u001b[39m\"\u001b[39m, \u001b[39mNone\u001b[39;00m))\n\u001b[1;32m    348\u001b[0m     \u001b[39mreturn\u001b[39;00m response\n",
      "File \u001b[0;32m/opt/conda/envs/LLM/lib/python3.9/site-packages/selenium/webdriver/remote/errorhandler.py:209\u001b[0m, in \u001b[0;36mErrorHandler.check_response\u001b[0;34m(self, response)\u001b[0m\n\u001b[1;32m    207\u001b[0m     value \u001b[39m=\u001b[39m response[\u001b[39m\"\u001b[39m\u001b[39mvalue\u001b[39m\u001b[39m\"\u001b[39m]\n\u001b[1;32m    208\u001b[0m \u001b[39mif\u001b[39;00m \u001b[39misinstance\u001b[39m(value, \u001b[39mstr\u001b[39m):\n\u001b[0;32m--> 209\u001b[0m     \u001b[39mraise\u001b[39;00m exception_class(value)\n\u001b[1;32m    210\u001b[0m \u001b[39mif\u001b[39;00m message \u001b[39m==\u001b[39m \u001b[39m\"\u001b[39m\u001b[39m\"\u001b[39m \u001b[39mand\u001b[39;00m \u001b[39m\"\u001b[39m\u001b[39mmessage\u001b[39m\u001b[39m\"\u001b[39m \u001b[39min\u001b[39;00m value:\n\u001b[1;32m    211\u001b[0m     message \u001b[39m=\u001b[39m value[\u001b[39m\"\u001b[39m\u001b[39mmessage\u001b[39m\u001b[39m\"\u001b[39m]\n",
      "\u001b[0;31mWebDriverException\u001b[0m: Message: \n"
     ]
    }
   ],
   "source": [
    "from selenium import webdriver\n",
    "from selenium.webdriver.chrome.service import Service as ChromeService\n",
    "from webdriver_manager.chrome import ChromeDriverManager\n",
    "\n",
    "url = \"http://iservice.10010.com/e4/transact/basic/common_question_iframe.html?menuCode=000500020002\"\n",
    "# url = \"https://angular.io/\"\n",
    "\n",
    "driver = webdriver.Chrome(\n",
    "    service=ChromeService(ChromeDriverManager().install()),\n",
    ")\n",
    "driver.get(url)\n",
    "print(driver.page_source)"
   ]
  },
  {
   "cell_type": "code",
   "execution_count": 5,
   "metadata": {},
   "outputs": [
    {
     "name": "stderr",
     "output_type": "stream",
     "text": [
      "[WDM] - Downloading: 100%|██████████| 7.82M/7.82M [00:07<00:00, 1.13MB/s]\n"
     ]
    },
    {
     "ename": "WebDriverException",
     "evalue": "Message: \n",
     "output_type": "error",
     "traceback": [
      "\u001b[0;31m---------------------------------------------------------------------------\u001b[0m",
      "\u001b[0;31mWebDriverException\u001b[0m                        Traceback (most recent call last)",
      "Cell \u001b[0;32mIn[5], line 6\u001b[0m\n\u001b[1;32m      3\u001b[0m \u001b[39mfrom\u001b[39;00m \u001b[39mselenium\u001b[39;00m\u001b[39m.\u001b[39;00m\u001b[39mwebdriver\u001b[39;00m\u001b[39m.\u001b[39;00m\u001b[39medge\u001b[39;00m\u001b[39m.\u001b[39;00m\u001b[39mservice\u001b[39;00m \u001b[39mimport\u001b[39;00m Service \u001b[39mas\u001b[39;00m EdgeService\n\u001b[1;32m      4\u001b[0m \u001b[39mfrom\u001b[39;00m \u001b[39mwebdriver_manager\u001b[39;00m\u001b[39m.\u001b[39;00m\u001b[39mmicrosoft\u001b[39;00m \u001b[39mimport\u001b[39;00m EdgeChromiumDriverManager\n\u001b[0;32m----> 6\u001b[0m driver \u001b[39m=\u001b[39m webdriver\u001b[39m.\u001b[39;49mEdge(service\u001b[39m=\u001b[39;49mEdgeService(EdgeChromiumDriverManager()\u001b[39m.\u001b[39;49minstall()))\n",
      "File \u001b[0;32m/opt/conda/envs/LLM/lib/python3.9/site-packages/selenium/webdriver/edge/webdriver.py:49\u001b[0m, in \u001b[0;36mWebDriver.__init__\u001b[0;34m(self, options, service, keep_alive)\u001b[0m\n\u001b[1;32m     45\u001b[0m \u001b[39mself\u001b[39m\u001b[39m.\u001b[39mkeep_alive \u001b[39m=\u001b[39m keep_alive\n\u001b[1;32m     47\u001b[0m \u001b[39mself\u001b[39m\u001b[39m.\u001b[39mservice\u001b[39m.\u001b[39mpath \u001b[39m=\u001b[39m DriverFinder\u001b[39m.\u001b[39mget_path(\u001b[39mself\u001b[39m\u001b[39m.\u001b[39mservice, \u001b[39mself\u001b[39m\u001b[39m.\u001b[39moptions)\n\u001b[0;32m---> 49\u001b[0m \u001b[39msuper\u001b[39;49m()\u001b[39m.\u001b[39;49m\u001b[39m__init__\u001b[39;49m(\n\u001b[1;32m     50\u001b[0m     DesiredCapabilities\u001b[39m.\u001b[39;49mEDGE[\u001b[39m\"\u001b[39;49m\u001b[39mbrowserName\u001b[39;49m\u001b[39m\"\u001b[39;49m],\n\u001b[1;32m     51\u001b[0m     \u001b[39m\"\u001b[39;49m\u001b[39mms\u001b[39;49m\u001b[39m\"\u001b[39;49m,\n\u001b[1;32m     52\u001b[0m     \u001b[39mself\u001b[39;49m\u001b[39m.\u001b[39;49moptions,\n\u001b[1;32m     53\u001b[0m     \u001b[39mself\u001b[39;49m\u001b[39m.\u001b[39;49mservice,\n\u001b[1;32m     54\u001b[0m     \u001b[39mself\u001b[39;49m\u001b[39m.\u001b[39;49mkeep_alive,\n\u001b[1;32m     55\u001b[0m )\n",
      "File \u001b[0;32m/opt/conda/envs/LLM/lib/python3.9/site-packages/selenium/webdriver/chromium/webdriver.py:54\u001b[0m, in \u001b[0;36mChromiumDriver.__init__\u001b[0;34m(self, browser_name, vendor_prefix, options, service, keep_alive)\u001b[0m\n\u001b[1;32m     51\u001b[0m \u001b[39mself\u001b[39m\u001b[39m.\u001b[39mservice\u001b[39m.\u001b[39mstart()\n\u001b[1;32m     53\u001b[0m \u001b[39mtry\u001b[39;00m:\n\u001b[0;32m---> 54\u001b[0m     \u001b[39msuper\u001b[39;49m()\u001b[39m.\u001b[39;49m\u001b[39m__init__\u001b[39;49m(\n\u001b[1;32m     55\u001b[0m         command_executor\u001b[39m=\u001b[39;49mChromiumRemoteConnection(\n\u001b[1;32m     56\u001b[0m             remote_server_addr\u001b[39m=\u001b[39;49m\u001b[39mself\u001b[39;49m\u001b[39m.\u001b[39;49mservice\u001b[39m.\u001b[39;49mservice_url,\n\u001b[1;32m     57\u001b[0m             browser_name\u001b[39m=\u001b[39;49mbrowser_name,\n\u001b[1;32m     58\u001b[0m             vendor_prefix\u001b[39m=\u001b[39;49mvendor_prefix,\n\u001b[1;32m     59\u001b[0m             keep_alive\u001b[39m=\u001b[39;49mkeep_alive,\n\u001b[1;32m     60\u001b[0m             ignore_proxy\u001b[39m=\u001b[39;49m\u001b[39mself\u001b[39;49m\u001b[39m.\u001b[39;49moptions\u001b[39m.\u001b[39;49m_ignore_local_proxy,\n\u001b[1;32m     61\u001b[0m         ),\n\u001b[1;32m     62\u001b[0m         options\u001b[39m=\u001b[39;49m\u001b[39mself\u001b[39;49m\u001b[39m.\u001b[39;49moptions,\n\u001b[1;32m     63\u001b[0m     )\n\u001b[1;32m     64\u001b[0m \u001b[39mexcept\u001b[39;00m \u001b[39mException\u001b[39;00m:\n\u001b[1;32m     65\u001b[0m     \u001b[39mself\u001b[39m\u001b[39m.\u001b[39mquit()\n",
      "File \u001b[0;32m/opt/conda/envs/LLM/lib/python3.9/site-packages/selenium/webdriver/remote/webdriver.py:206\u001b[0m, in \u001b[0;36mWebDriver.__init__\u001b[0;34m(self, command_executor, keep_alive, file_detector, options)\u001b[0m\n\u001b[1;32m    204\u001b[0m \u001b[39mself\u001b[39m\u001b[39m.\u001b[39m_authenticator_id \u001b[39m=\u001b[39m \u001b[39mNone\u001b[39;00m\n\u001b[1;32m    205\u001b[0m \u001b[39mself\u001b[39m\u001b[39m.\u001b[39mstart_client()\n\u001b[0;32m--> 206\u001b[0m \u001b[39mself\u001b[39;49m\u001b[39m.\u001b[39;49mstart_session(capabilities)\n",
      "File \u001b[0;32m/opt/conda/envs/LLM/lib/python3.9/site-packages/selenium/webdriver/remote/webdriver.py:291\u001b[0m, in \u001b[0;36mWebDriver.start_session\u001b[0;34m(self, capabilities)\u001b[0m\n\u001b[1;32m    283\u001b[0m \u001b[39m\u001b[39m\u001b[39m\"\"\"Creates a new session with the desired capabilities.\u001b[39;00m\n\u001b[1;32m    284\u001b[0m \n\u001b[1;32m    285\u001b[0m \u001b[39m:Args:\u001b[39;00m\n\u001b[1;32m    286\u001b[0m \u001b[39m - capabilities - a capabilities dict to start the session with.\u001b[39;00m\n\u001b[1;32m    287\u001b[0m \u001b[39m - browser_profile - A selenium.webdriver.firefox.firefox_profile.FirefoxProfile object. Only used if Firefox is requested.\u001b[39;00m\n\u001b[1;32m    288\u001b[0m \u001b[39m\"\"\"\u001b[39;00m\n\u001b[1;32m    290\u001b[0m caps \u001b[39m=\u001b[39m _create_caps(capabilities)\n\u001b[0;32m--> 291\u001b[0m response \u001b[39m=\u001b[39m \u001b[39mself\u001b[39;49m\u001b[39m.\u001b[39;49mexecute(Command\u001b[39m.\u001b[39;49mNEW_SESSION, caps)[\u001b[39m\"\u001b[39m\u001b[39mvalue\u001b[39m\u001b[39m\"\u001b[39m]\n\u001b[1;32m    292\u001b[0m \u001b[39mself\u001b[39m\u001b[39m.\u001b[39msession_id \u001b[39m=\u001b[39m response\u001b[39m.\u001b[39mget(\u001b[39m\"\u001b[39m\u001b[39msessionId\u001b[39m\u001b[39m\"\u001b[39m)\n\u001b[1;32m    293\u001b[0m \u001b[39mself\u001b[39m\u001b[39m.\u001b[39mcaps \u001b[39m=\u001b[39m response\u001b[39m.\u001b[39mget(\u001b[39m\"\u001b[39m\u001b[39mcapabilities\u001b[39m\u001b[39m\"\u001b[39m)\n",
      "File \u001b[0;32m/opt/conda/envs/LLM/lib/python3.9/site-packages/selenium/webdriver/remote/webdriver.py:346\u001b[0m, in \u001b[0;36mWebDriver.execute\u001b[0;34m(self, driver_command, params)\u001b[0m\n\u001b[1;32m    344\u001b[0m response \u001b[39m=\u001b[39m \u001b[39mself\u001b[39m\u001b[39m.\u001b[39mcommand_executor\u001b[39m.\u001b[39mexecute(driver_command, params)\n\u001b[1;32m    345\u001b[0m \u001b[39mif\u001b[39;00m response:\n\u001b[0;32m--> 346\u001b[0m     \u001b[39mself\u001b[39;49m\u001b[39m.\u001b[39;49merror_handler\u001b[39m.\u001b[39;49mcheck_response(response)\n\u001b[1;32m    347\u001b[0m     response[\u001b[39m\"\u001b[39m\u001b[39mvalue\u001b[39m\u001b[39m\"\u001b[39m] \u001b[39m=\u001b[39m \u001b[39mself\u001b[39m\u001b[39m.\u001b[39m_unwrap_value(response\u001b[39m.\u001b[39mget(\u001b[39m\"\u001b[39m\u001b[39mvalue\u001b[39m\u001b[39m\"\u001b[39m, \u001b[39mNone\u001b[39;00m))\n\u001b[1;32m    348\u001b[0m     \u001b[39mreturn\u001b[39;00m response\n",
      "File \u001b[0;32m/opt/conda/envs/LLM/lib/python3.9/site-packages/selenium/webdriver/remote/errorhandler.py:209\u001b[0m, in \u001b[0;36mErrorHandler.check_response\u001b[0;34m(self, response)\u001b[0m\n\u001b[1;32m    207\u001b[0m     value \u001b[39m=\u001b[39m response[\u001b[39m\"\u001b[39m\u001b[39mvalue\u001b[39m\u001b[39m\"\u001b[39m]\n\u001b[1;32m    208\u001b[0m \u001b[39mif\u001b[39;00m \u001b[39misinstance\u001b[39m(value, \u001b[39mstr\u001b[39m):\n\u001b[0;32m--> 209\u001b[0m     \u001b[39mraise\u001b[39;00m exception_class(value)\n\u001b[1;32m    210\u001b[0m \u001b[39mif\u001b[39;00m message \u001b[39m==\u001b[39m \u001b[39m\"\u001b[39m\u001b[39m\"\u001b[39m \u001b[39mand\u001b[39;00m \u001b[39m\"\u001b[39m\u001b[39mmessage\u001b[39m\u001b[39m\"\u001b[39m \u001b[39min\u001b[39;00m value:\n\u001b[1;32m    211\u001b[0m     message \u001b[39m=\u001b[39m value[\u001b[39m\"\u001b[39m\u001b[39mmessage\u001b[39m\u001b[39m\"\u001b[39m]\n",
      "\u001b[0;31mWebDriverException\u001b[0m: Message: \n"
     ]
    }
   ],
   "source": [
    "# selenium 4\n",
    "from selenium import webdriver\n",
    "from selenium.webdriver.edge.service import Service as EdgeService\n",
    "from webdriver_manager.microsoft import EdgeChromiumDriverManager\n",
    "\n",
    "driver = webdriver.Edge(service=EdgeService(EdgeChromiumDriverManager().install()))"
   ]
  }
 ],
 "metadata": {
  "kernelspec": {
   "display_name": "LLM",
   "language": "python",
   "name": "python3"
  },
  "language_info": {
   "codemirror_mode": {
    "name": "ipython",
    "version": 3
   },
   "file_extension": ".py",
   "mimetype": "text/x-python",
   "name": "python",
   "nbconvert_exporter": "python",
   "pygments_lexer": "ipython3",
   "version": "3.9.0"
  },
  "orig_nbformat": 4
 },
 "nbformat": 4,
 "nbformat_minor": 2
}
