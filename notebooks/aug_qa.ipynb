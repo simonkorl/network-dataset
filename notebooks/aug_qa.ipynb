{
 "cells": [
  {
   "attachments": {},
   "cell_type": "markdown",
   "metadata": {},
   "source": [
    "# QA augmentation by rewriting questions"
   ]
  },
  {
   "cell_type": "code",
   "execution_count": 1,
   "metadata": {},
   "outputs": [],
   "source": [
    "import os\n",
    "import openai\n",
    "\n",
    "proxy = 'http://dell-1.star:7890' # 3090 docker\n",
    "# proxy = 'http://127.0.0.1:7890' # clash\n",
    "# proxy = 'http://127.0.0.1:1080' # naiveproxy\n",
    "\n",
    "os.environ['http_proxy'] = proxy \n",
    "os.environ['HTTP_PROXY'] = proxy\n",
    "os.environ['https_proxy'] = proxy\n",
    "os.environ['HTTPS_PROXY'] = proxy\n",
    "openai.api_key_path = \".openai-key2\""
   ]
  },
  {
   "cell_type": "code",
   "execution_count": 2,
   "metadata": {},
   "outputs": [],
   "source": [
    "import json\n",
    "with open(\"template/question_augmentation.json\", \"r\") as f:\n",
    "    template = json.load(f)\n",
    "\n",
    "\n",
    "AUGMENT_PROMPT = \"\"\"根据以下示例问题和答案，改写给定问题，不需要改写答案，要求改写后的问题与原问题的意思相同，且改写后的问题与给定答案匹配，但形式与原问题不同。\n",
    "问题：\n",
    "{question_example}\n",
    "答案：\n",
    "{answer_example}\n",
    "改写后的问题：\n",
    "{output_example}\n",
    "\n",
    "问题：\n",
    "{question}\n",
    "答案：\n",
    "{answer}\n",
    "改写后的问题：\n",
    "1.\n",
    "\"\"\"\n"
   ]
  },
  {
   "cell_type": "code",
   "execution_count": 3,
   "metadata": {},
   "outputs": [],
   "source": [
    "import logging\n",
    "import random\n",
    "\n",
    "def aug_questions_by_chat(row, max_tokens=1000):\n",
    "    example = random.choice(template)\n",
    "    try:\n",
    "        response = openai.ChatCompletion.create(\n",
    "            model=\"gpt-3.5-turbo\",\n",
    "            messages=[\n",
    "                {\n",
    "                    \"role\": \"user\",\n",
    "                    \"content\": AUGMENT_PROMPT.format(\n",
    "                        question_example=example['question'],\n",
    "                        answer_example=example['answer'],\n",
    "                        output_example=example['output'],\n",
    "                        question=row['question'],\n",
    "                        answer=row['answer'])\n",
    "                }\n",
    "            ],\n",
    "            temperature=0,\n",
    "            max_tokens=max_tokens,\n",
    "            top_p=1,\n",
    "            frequency_penalty=0,\n",
    "            presence_penalty=0,\n",
    "            stop=[\"\\n\\n\"]\n",
    "        )\n",
    "        return response.choices[0].message.content\n",
    "    except Exception as e:\n",
    "        logging.error(e)\n",
    "        return \"\"\n"
   ]
  },
  {
   "cell_type": "code",
   "execution_count": 4,
   "metadata": {},
   "outputs": [
    {
     "name": "stderr",
     "output_type": "stream",
     "text": [
      " 16%|█▋        | 247/1497 [10:13<1:07:57,  3.26s/it]ERROR:root:The server is overloaded or not ready yet.\n",
      " 17%|█▋        | 254/1497 [10:58<1:17:52,  3.76s/it]ERROR:root:The server is overloaded or not ready yet.\n",
      " 19%|█▉        | 289/1497 [12:50<46:10,  2.29s/it]  WARNING:urllib3.connectionpool:Retrying (Retry(total=1, connect=None, read=None, redirect=None, status=None)) after connection broken by 'RemoteDisconnected('Remote end closed connection without response')': /v1/chat/completions\n",
      " 22%|██▏       | 333/1497 [16:16<44:19,  2.28s/it]   WARNING:urllib3.connectionpool:Retrying (Retry(total=1, connect=None, read=None, redirect=None, status=None)) after connection broken by 'RemoteDisconnected('Remote end closed connection without response')': /v1/chat/completions\n",
      " 41%|████▏     | 619/1497 [30:01<44:45,  3.06s/it]   WARNING:urllib3.connectionpool:Retrying (Retry(total=1, connect=None, read=None, redirect=None, status=None)) after connection broken by 'RemoteDisconnected('Remote end closed connection without response')': /v1/chat/completions\n",
      " 68%|██████▊   | 1015/1497 [51:12<26:43,  3.33s/it] WARNING:urllib3.connectionpool:Retrying (Retry(total=1, connect=None, read=None, redirect=None, status=None)) after connection broken by 'RemoteDisconnected('Remote end closed connection without response')': /v1/chat/completions\n",
      " 79%|███████▉  | 1184/1497 [1:00:30<12:52,  2.47s/it]ERROR:root:The server is overloaded or not ready yet.\n",
      " 91%|█████████ | 1366/1497 [1:09:04<04:01,  1.84s/it]WARNING:urllib3.connectionpool:Retrying (Retry(total=1, connect=None, read=None, redirect=None, status=None)) after connection broken by 'RemoteDisconnected('Remote end closed connection without response')': /v1/chat/completions\n",
      " 93%|█████████▎| 1393/1497 [1:12:20<13:36,  7.86s/it]  WARNING:urllib3.connectionpool:Retrying (Retry(total=1, connect=None, read=None, redirect=None, status=None)) after connection broken by 'RemoteDisconnected('Remote end closed connection without response')': /v1/chat/completions\n",
      " 95%|█████████▍| 1422/1497 [1:15:17<03:13,  2.57s/it]  WARNING:urllib3.connectionpool:Retrying (Retry(total=1, connect=None, read=None, redirect=None, status=None)) after connection broken by 'RemoteDisconnected('Remote end closed connection without response')': /v1/chat/completions\n",
      "100%|██████████| 1497/1497 [1:20:21<00:00,  3.22s/it]\n"
     ]
    }
   ],
   "source": [
    "import pandas\n",
    "from tqdm import tqdm\n",
    "\n",
    "tqdm.pandas()\n",
    "\n",
    "# filename = \"docx/qa/qa-chinese-003-final.csv\"\n",
    "filename = \"book/csv/total-qa-final.csv\"\n",
    "df = pandas.read_csv(filename)\n",
    "# rename columns\n",
    "df.rename({\"prompt\": \"question\", \"completion\": \"answer\"}, axis=1, inplace=True)\n",
    "df[\"aug_questions\"] = df.progress_apply(aug_questions_by_chat, axis=1)"
   ]
  },
  {
   "cell_type": "code",
   "execution_count": 6,
   "metadata": {},
   "outputs": [],
   "source": [
    "df[\"aug_questions\"] = \"1.\" + df.aug_questions\n",
    "\n",
    "df.to_csv(filename.replace(\".csv\", \"-aug.csv\"), index=False)"
   ]
  },
  {
   "cell_type": "code",
   "execution_count": 9,
   "metadata": {},
   "outputs": [],
   "source": [
    "# split aug_questions\n",
    "import pandas as pd\n",
    "import re \n",
    "\n",
    "aug_df = pd.read_csv(filename.replace(\".csv\", \"-aug.csv\"))\n",
    "question_list, answer_list = [], []\n",
    "for idx, row in aug_df.iterrows():\n",
    "    aug_questions = row.aug_questions\n",
    "    aug_questions = re.split(r\"\\d+\\.\", aug_questions)\n",
    "    aug_questions = [q.strip() for q in aug_questions if q.strip()]\n",
    "    question_list.extend(aug_questions)\n",
    "    answer_list.extend([row.answer] * len(aug_questions))\n",
    "\n",
    "new_df = pd.DataFrame({\n",
    "    \"question\": question_list,\n",
    "    \"answer\": answer_list\n",
    "})\n",
    "save_filename = filename.replace(\".csv\", \"-aug-split.csv\")\n",
    "new_df.to_csv(save_filename, index=False)\n",
    "new_df.to_json(save_filename.replace(\".csv\", \".jsonl\"), \n",
    "               orient=\"records\", force_ascii=False, lines=True)"
   ]
  },
  {
   "cell_type": "markdown",
   "metadata": {},
   "source": [
    "# filter QA"
   ]
  },
  {
   "cell_type": "code",
   "execution_count": 2,
   "metadata": {},
   "outputs": [
    {
     "name": "stdout",
     "output_type": "stream",
     "text": [
      "before filter:  (2483, 2)\n",
      "after length filter:  (2465, 2)\n",
      "after question mark filter:  (2439, 2)\n",
      "after period filter:  (2439, 2)\n",
      "after key word filter:  (2438, 2)\n",
      "after duplicate filter:  (2431, 2)\n"
     ]
    },
    {
     "name": "stderr",
     "output_type": "stream",
     "text": [
      "100%|██████████| 2431/2431 [00:38<00:00, 63.60it/s]\n",
      "100%|██████████| 2431/2431 [00:01<00:00, 2267.95it/s]\n"
     ]
    },
    {
     "name": "stdout",
     "output_type": "stream",
     "text": [
      "after similarity filter:  (2162, 4)\n",
      "after rouge filter:  (2160, 4)\n"
     ]
    },
    {
     "data": {
      "text/plain": [
       "'docx/qa/qa-chinese-003-final-aug-split-filtered.jsonl'"
      ]
     },
     "execution_count": 2,
     "metadata": {},
     "output_type": "execute_result"
    }
   ],
   "source": [
    "from qa_generator import filter_qa\n",
    "\n",
    "# filter_qa(\"book/csv/total-qa-final-aug-split.csv\", output_format=\"jsonl\")\n",
    "filter_qa(\"docx/qa/qa-chinese-003-final-aug-split.csv\", output_format=\"jsonl\")"
   ]
  }
 ],
 "metadata": {
  "kernelspec": {
   "display_name": "LLM",
   "language": "python",
   "name": "python3"
  },
  "language_info": {
   "codemirror_mode": {
    "name": "ipython",
    "version": 3
   },
   "file_extension": ".py",
   "mimetype": "text/x-python",
   "name": "python",
   "nbconvert_exporter": "python",
   "pygments_lexer": "ipython3",
   "version": "3.9.0"
  },
  "orig_nbformat": 4
 },
 "nbformat": 4,
 "nbformat_minor": 2
}
