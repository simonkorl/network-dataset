{
 "cells": [
  {
   "attachments": {},
   "cell_type": "markdown",
   "metadata": {},
   "source": [
    "# Crawl data from ISP websites"
   ]
  },
  {
   "cell_type": "code",
   "execution_count": 1,
   "metadata": {},
   "outputs": [],
   "source": [
    "import requests\n",
    "\n",
    "def get_page(url):\n",
    "    try:\n",
    "        response = requests.get(url)\n",
    "        return response.text\n",
    "    except:\n",
    "        return \"\"\n",
    "    \n",
    "def get_all_links(page):\n",
    "    links = []\n",
    "    while True:\n",
    "        url, endpos = get_next_target(page)\n",
    "        if url:\n",
    "            links.append(url)\n",
    "            page = page[endpos:]\n",
    "        else:\n",
    "            break\n",
    "    return links\n",
    "\n",
    "def get_next_target(page):\n",
    "    start_link = page.find('<a href=')\n",
    "    if start_link == -1:\n",
    "        return None, 0\n",
    "    start_quote = page.find('\"', start_link)\n",
    "    end_quote = page.find('\"', start_quote+1)\n",
    "    url = page[start_quote+1:end_quote]\n",
    "    return url, end_quote"
   ]
  },
  {
   "cell_type": "code",
   "execution_count": 3,
   "metadata": {},
   "outputs": [
    {
     "name": "stdout",
     "output_type": "stream",
     "text": [
      "\n",
      "\n",
      "\n"
     ]
    }
   ],
   "source": [
    "url = \"https://iservice.10010.com/e3/static/life/queryCategoryQuestion?LBxNixgk=5S1WQUqcPwjUZP8NScRuw_6rDsdIA.7NQip.Q1yex77gezu9B8PLOVWyVmcSTxxrXBZbsQWJ4yXOU1_rNH7Y5j25Wgi.Xj5ucmjTxKMIs_mjWZKG06UeL2anxXYyr6iWc9VbenaO_ef6UOhIRvF5CaEm6JUTzW7Tntxc8BoSeDMe_In5DBBcIW.LOx.2a4pe3oJECJng9rBO82lVgPNVpVyzIbMuUIvUAWkEvDEe_2qTdMvB01LkkOsaH6g_SCxYTRUaLIhbL7nI3wCbx0pXnZklxD8iRUP2woZWsZ8X6SHxLGilgTQYTvRJtrN2nILrj&KxvNPIMJ=4jMtdmRchc10kLoyTeGQcn3kIMAOSKV6nOJvl2wD25DcKT_uxbt9HX9HTrbIAs8n7VEd_Nz4zgnbJZiSiI.VV8DOrzblCAcOwFT977tHg4N6vBcCSbaCRGn7hqO2WZfb4\"\n",
    "response = requests.post(url)\n",
    "print(response)"
   ]
  }
 ],
 "metadata": {
  "kernelspec": {
   "display_name": "LLM",
   "language": "python",
   "name": "python3"
  },
  "language_info": {
   "codemirror_mode": {
    "name": "ipython",
    "version": 3
   },
   "file_extension": ".py",
   "mimetype": "text/x-python",
   "name": "python",
   "nbconvert_exporter": "python",
   "pygments_lexer": "ipython3",
   "version": "3.9.0"
  },
  "orig_nbformat": 4
 },
 "nbformat": 4,
 "nbformat_minor": 2
}
